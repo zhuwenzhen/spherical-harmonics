{
 "cells": [
  {
   "cell_type": "markdown",
   "metadata": {
    "Collapsed": "false"
   },
   "source": [
    "# 02/01 Experiment\n",
    "\n",
    "Goals:\n",
    "* Compare original script and optimized version (66 times faster).\n",
    "* Checked original script and optimized version produced same result.\n",
    "* Optimized version did the following improvement:\n",
    "    * Cleaned unecessary cache (not really needed and will waste memory)\n",
    "    * Better-formatted\n",
    "    * Added a function `runExperiment[i, n, a]` to easily set up experiemnts\n"
   ]
  },
  {
   "cell_type": "code",
   "execution_count": 87,
   "metadata": {
    "Collapsed": "false"
   },
   "outputs": [
    {
     "data": {
      "text/html": [
       "<style>\n",
       "\t\t\t\t\t\t\t\t\t\t\t\t\t.grid-container {\n",
       "\t\t\t\t\t\t\t\t\t\t\t\t\t\tdisplay: inline-grid;\n",
       "\t\t\t\t\t\t\t\t\t\t\t\t\t\tgrid-template-columns: auto;\n",
       "\t\t\t\t\t\t\t\t\t\t\t\t\t}\n",
       "\t\t\t\t\t\t\t\t\t\t\t\t</style>\n",
       "\n",
       "\t\t\t\t\t\t\t\t\t\t\t\t<div><div class=\"grid-container\"><div class=\"grid-item\"><pre style=\"&#102;&#111;&#110;&#116;&#45;&#102;&#97;&#109;&#105;&#108;&#121;&#58;&#32;&#34;&#67;&#111;&#117;&#114;&#105;&#101;&#114;&#32;&#78;&#101;&#119;&#34;&#44;&#67;&#111;&#117;&#114;&#105;&#101;&#114;&#44;&#109;&#111;&#110;&#111;&#115;&#112;&#97;&#99;&#101;&#59;\">&#47;&#104;&#111;&#109;&#101;&#47;&#101;&#99;&#50;&#45;&#117;&#115;&#101;&#114;&#47;&#83;&#97;&#103;&#101;&#77;&#97;&#107;&#101;&#114;&#47;&#115;&#112;&#104;&#101;&#114;&#105;&#99;&#97;&#108;&#45;&#104;&#97;&#114;&#109;&#111;&#110;&#105;&#99;&#115;&#47;&#100;&#97;&#116;&#97;&#47;</pre></div><div class=\"grid-item\"><pre style=\"&#102;&#111;&#110;&#116;&#45;&#102;&#97;&#109;&#105;&#108;&#121;&#58;&#32;&#34;&#67;&#111;&#117;&#114;&#105;&#101;&#114;&#32;&#78;&#101;&#119;&#34;&#44;&#67;&#111;&#117;&#114;&#105;&#101;&#114;&#44;&#109;&#111;&#110;&#111;&#115;&#112;&#97;&#99;&#101;&#59;\">&#51;&#53;&#46;&#52;&#52;&#55;&#53;</pre></div></div></div>"
      ],
      "text/plain": [
       "/home/ec2-user/SageMaker/spherical-harmonics/data/\n",
       "35.4475"
      ]
     },
     "execution_count": 102,
     "metadata": {
      "text/html": [],
      "text/plain": []
     },
     "output_type": "execute_result"
    }
   ],
   "source": [
    "(* ::Package:: *)\n",
    "\n",
    "indexToRep[n_]:= indexToRep[n] = Module[{j, m},\n",
    "\tj = Floor[Sqrt[n - 1]];\n",
    "\tm = n - 1 - j^2 - j;\n",
    "\t{j, m}\n",
    "]\n",
    "\n",
    "repToIndex[j_, m_]:= repToIndex[j, m] = j^2 + m + j + 1;\n",
    "\n",
    "indexToRepSortedBym[n_]:= \n",
    "\tindexToRepSortedBym[n] = Sort[indexToRep[n], #1[[2]] < #2[[2]] &]\n",
    "\t\n",
    "approximateByProjection[mat_, n_, a_, csvFilePath_, matFilePath_]:= Block[\n",
    "\t{u, w, v, res, index, fileKey},\n",
    "\t{u, w, v} = SingularValueDecomposition[mat, Min[Dimensions[mat]]];\n",
    "\tres = u . DiagonalMatrix[If[Re[#] > 0.5, 1., 0.] &/@ Diagonal[w]] . ConjugateTranspose[v];\n",
    "\tExport[csvFilePath, res];\n",
    "\tExport[matFilePath, res];\n",
    "\tres\n",
    "]\n",
    "\n",
    "symmetrizeLowerDiag[mat_] := Transpose[LowerTriangularize[mat,-1]] + mat\n",
    "\n",
    "sphNormCoeffs[l_,m_]:=Sqrt[(2*l+1)*(l-m)!/(4*Pi*(l+m)!)]\n",
    "\n",
    "projInfinitySparseList[r1_?ListQ, r2_?ListQ, angles_]:=Block[\n",
    "\t{\\[Theta], \\[Phi], \n",
    "\tj1 = First[r1],\n",
    "\tm1 = Last[r1],\n",
    "\tj2 = First[r2],\n",
    "\tm2 = Last[r2], \n",
    "\tintegral},\n",
    "\tintegral = \n",
    "\t\t2*Pi*sphNormCoeffs[j2, m2] * sphNormCoeffs[j1, m1]* Integrate[LegendreP[j1, m1, x]LegendreP[j2, m2, x], x];\n",
    "\tSubtract @@ (integral /. x -> {1, Cos[angles]})\n",
    "]\n",
    "\n",
    "\n",
    "projSparseAllAngles[n_, a_, dir_]:=\n",
    "\tBlock[\n",
    "\t{\n",
    "\t\tind = indexToRep/@Range[n^2],\n",
    "\t\tangles = Table[ArcCos[1 - k / (a - 0.5)], {k, 0, a - 1}],\n",
    "\t\tindSorted, indexofjm0, indSortedUntiljmAre0, arraysAllAngles, symmetrized,\n",
    "\t\tindices, fileKeys, csvFilePaths, matFilePaths\n",
    "\t},\n",
    "\tindSorted = Sort[ind, #1[[2]] < #2[[2]]&];\n",
    "\tindexofjm0 = Total[Range[1, n]];\n",
    "\tindSortedUntiljmAre0 = indSorted[[1;;indexofjm0]];\n",
    "\tarraysAllAngles = Table[\n",
    "\t\tSparseArray[\n",
    "\t\t{{i_,j_}:>\n",
    "\t\tEvaluate[projInfinitySparseList[indSortedUntiljmAre0[[i]],indSortedUntiljmAre0[[j]],angles]][[k]]/;\n",
    "\t\ti >= j &&Last[indSortedUntiljmAre0[[i]]] == Last[indSortedUntiljmAre0[[j]]]},\n",
    "\t\t{Length[indSortedUntiljmAre0], Length[indSortedUntiljmAre0]}],\n",
    "\t\t{k, 1, Length[angles]}\n",
    "\t];\n",
    "\tsymmetrized = symmetrizeLowerDiag /@ arraysAllAngles;\n",
    "\tindices = Range[a];\n",
    "\tfileKeys = \"n\" <> ToString[n] <> \"_a_\" <>ToString[a] <> \"_i_\" <> ToString[#] &/@indices;\n",
    "\tcsvFilePaths = dir <> # <> \".csv\" &/@ fileKeys;\n",
    "\tmatFilePaths = dir <> # <> \".mat\" &/@ fileKeys;\n",
    "\tPrint[csvFilePaths];\n",
    "\t(*mat_, n_, a_, filePath_*)\n",
    "\tReturn @ MapThread[approximateByProjection[#1, n, a, #2, #3]&, {symmetrized, csvFilePaths, matFilePaths}]\n",
    "]\n",
    "\n",
    "\n",
    "projSparseAllAnglesParallel[n_, a_, dir_]:=\n",
    "\tBlock[{\n",
    "\t\tind = indexToRep/@Range[n^2],\n",
    "\t\tangles = Table[ArcCos[1 - k / (a - 0.5)], {k, 0, a - 1}],\n",
    "\t\tindSorted, indexofjm0, indSortedUntiljmAre0, arraysAllAngles, symmetrized,\n",
    "\t\tindices, fileKeys, csvFilePaths, matFilePaths\n",
    "\t},\n",
    "\tindSorted = Sort[ind,#1[[2]]< #2[[2]]&];\n",
    "\tindexofjm0 = Total[Range[1, n]];\n",
    "\tindSortedUntiljmAre0 = indSorted[[1;;indexofjm0]];\n",
    "\tCloseKernels[]; LaunchKernels[];\n",
    "\tarraysAllAngles = Parallelize @ Table[\n",
    "\t\tSparseArray[{{i_,j_}:>\n",
    "\t\tEvaluate[projInfinitySparseList[indSortedUntiljmAre0[[i]],indSortedUntiljmAre0[[j]],angles]][[k]]/;i>=j &&Last[indSortedUntiljmAre0[[i]]]==Last[indSortedUntiljmAre0[[j]]]},{Length[indSortedUntiljmAre0],Length[indSortedUntiljmAre0]}],{k,1,Length[angles]}];\n",
    "\tsymmetrized = symmetrizeLowerDiag /@ arraysAllAngles;\n",
    "\tindices = Range[a];\n",
    "\tfileKeys = \"n_\" <> ToString[n] <> \"_a_\" <>ToString[a] <> \"_i_\" <> ToString[#] &/@indices;\n",
    "\tcsvFilePaths = dir <> # <> \".csv\" &/@ fileKeys;\n",
    "\tmatFilePaths = dir <> # <> \".mat\" &/@ fileKeys;\n",
    "\t(*mat_, n_, a_, filePath_*)\n",
    "\tParallelize @ MapThread[approximateByProjection[#1, n, a, #2, #3]&, {symmetrized, csvFilePaths, matFilePaths}]\n",
    "]"
   ]
  },
  {
   "cell_type": "code",
   "execution_count": 118,
   "metadata": {
    "Collapsed": "false"
   },
   "outputs": [
    {
     "data": {
      "text/html": [
       "<style>\n",
       "\t\t\t\t\t\t\t\t\t\t\t\t\t.grid-container {\n",
       "\t\t\t\t\t\t\t\t\t\t\t\t\t\tdisplay: inline-grid;\n",
       "\t\t\t\t\t\t\t\t\t\t\t\t\t\tgrid-template-columns: auto;\n",
       "\t\t\t\t\t\t\t\t\t\t\t\t\t}\n",
       "\t\t\t\t\t\t\t\t\t\t\t\t</style>\n",
       "\n",
       "\t\t\t\t\t\t\t\t\t\t\t\t<div><div class=\"grid-container\"><div class=\"grid-item\"><pre style=\"&#102;&#111;&#110;&#116;&#45;&#102;&#97;&#109;&#105;&#108;&#121;&#58;&#32;&#34;&#67;&#111;&#117;&#114;&#105;&#101;&#114;&#32;&#78;&#101;&#119;&#34;&#44;&#67;&#111;&#117;&#114;&#105;&#101;&#114;&#44;&#109;&#111;&#110;&#111;&#115;&#112;&#97;&#99;&#101;&#59;\">&#47;&#104;&#111;&#109;&#101;&#47;&#101;&#99;&#50;&#45;&#117;&#115;&#101;&#114;&#47;&#83;&#97;&#103;&#101;&#77;&#97;&#107;&#101;&#114;&#47;&#115;&#112;&#104;&#101;&#114;&#105;&#99;&#97;&#108;&#45;&#104;&#97;&#114;&#109;&#111;&#110;&#105;&#99;&#115;&#47;&#110;&#95;&#50;&#48;&#95;&#97;&#95;&#50;&#48;&#47;</pre></div><div class=\"grid-item\"><pre style=\"&#102;&#111;&#110;&#116;&#45;&#102;&#97;&#109;&#105;&#108;&#121;&#58;&#32;&#34;&#67;&#111;&#117;&#114;&#105;&#101;&#114;&#32;&#78;&#101;&#119;&#34;&#44;&#67;&#111;&#117;&#114;&#105;&#101;&#114;&#44;&#109;&#111;&#110;&#111;&#115;&#112;&#97;&#99;&#101;&#59;\">&#47;&#104;&#111;&#109;&#101;&#47;&#101;&#99;&#50;&#45;&#117;&#115;&#101;&#114;&#47;&#83;&#97;&#103;&#101;&#77;&#97;&#107;&#101;&#114;&#47;&#115;&#112;&#104;&#101;&#114;&#105;&#99;&#97;&#108;&#45;&#104;&#97;&#114;&#109;&#111;&#110;&#105;&#99;&#115;&#47;&#110;&#95;&#50;&#48;&#95;&#97;&#95;&#50;&#48;&#47;</pre></div><div class=\"grid-item\"><pre style=\"&#102;&#111;&#110;&#116;&#45;&#102;&#97;&#109;&#105;&#108;&#121;&#58;&#32;&#34;&#67;&#111;&#117;&#114;&#105;&#101;&#114;&#32;&#78;&#101;&#119;&#34;&#44;&#67;&#111;&#117;&#114;&#105;&#101;&#114;&#44;&#109;&#111;&#110;&#111;&#115;&#112;&#97;&#99;&#101;&#59;\">&#51;&#51;&#46;&#57;&#57;&#56;&#54;</pre></div></div></div>"
      ],
      "text/plain": [
       "/home/ec2-user/SageMaker/spherical-harmonics/n_20_a_20/\n",
       "/home/ec2-user/SageMaker/spherical-harmonics/n_20_a_20/\n",
       "33.9986"
      ]
     },
     "execution_count": 122,
     "metadata": {
      "text/html": [],
      "text/plain": []
     },
     "output_type": "execute_result"
    }
   ],
   "source": [
    "(* ::Section:: *)\n",
    "(*Test*)\n",
    "\n",
    "n = 20;\n",
    "a = 20;\n",
    "folderName = \"/home/ec2-user/SageMaker/spherical-harmonics/\" <> \"n_\" <> ToString @ n <> \"_a_\" <> ToString @ a <> \"/\"\n",
    "CreateDirectory[folderName]\n",
    "test = AbsoluteTiming[projSparseAllAnglesParallel[n, a, folderName]][[1]]"
   ]
  },
  {
   "cell_type": "code",
   "execution_count": null,
   "metadata": {
    "Collapsed": "false"
   },
   "outputs": [],
   "source": []
  }
 ],
 "metadata": {
  "kernelspec": {
   "display_name": "Wolfram Language 12",
   "language": "Wolfram Language",
   "name": "wolframlanguage12"
  },
  "language_info": {
   "codemirror_mode": "mathematica",
   "file_extension": ".m",
   "mimetype": "application/vnd.wolfram.m",
   "name": "Wolfram Language",
   "pygments_lexer": "mathematica",
   "version": "12.0"
  }
 },
 "nbformat": 4,
 "nbformat_minor": 4
}
