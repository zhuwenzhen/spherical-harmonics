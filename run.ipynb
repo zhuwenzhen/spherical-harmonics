{
 "cells": [
  {
   "cell_type": "markdown",
   "metadata": {
    "Collapsed": "false"
   },
   "source": [
    "# Run Experiment across instances\n",
    "\n",
    "Goals:\n",
    "* Compute projection matrix for `n = 100`, `a = 20`"
   ]
  },
  {
   "cell_type": "markdown",
   "metadata": {
    "Collapsed": "false"
   },
   "source": [
    "## Code"
   ]
  },
  {
   "cell_type": "code",
   "execution_count": 34,
   "metadata": {
    "Collapsed": "false"
   },
   "outputs": [],
   "source": [
    "IndexToRep[n_]:= IndexToRep[n] = Module[{j, m},\n",
    "\tj = Floor[Sqrt[n - 1]];\n",
    "\tm = n - 1 - j^2 - j;\n",
    "\t{j, m}\n",
    "]\n",
    "\n",
    "RepToIndex[j_, m_]:= RepToIndex[j, m] = j^2 + m + j + 1;\n",
    "\n",
    "IndexToRepSortedBym[n_]:= \n",
    "\tIndexToRepSortedBym[n] = Sort[IndexToRep[n], #1[[2]] < #2[[2]] &]\n",
    "\t\n",
    "ApproximateByProjection[mat_]:= Module[{u,w,v},\n",
    "\t{u, w, v} = SingularValueDecomposition[mat];\n",
    "\tReturn[u . DiagonalMatrix[If[Re[#] > 0.5, 1., 0.] &/@ Diagonal[w]] . ConjugateTranspose[v]];\n",
    "]\n",
    "\n",
    "ProjInfinity[r1_, r2_, angle_?NumericQ]:= Block[\n",
    "\t{\\[Theta], \\[Phi]},\n",
    "\tIf[\n",
    "\t\tLast[r1]!=Last[r2],\n",
    "\t\t0.,\n",
    "\t\tNIntegrate[\n",
    "\t\t\tSin[\\[Theta]]SphericalHarmonicY[First[r2],Last[r2], \\[Theta], \\[Phi]]SphericalHarmonicY[First[r1],Last[r1], \\[Theta], -\\[Phi]],\n",
    "\t\t\t{\\[Theta],0,angle},{\\[Phi],0,2Pi}, \n",
    "\t\t\tMethod -> {\"GlobalAdaptive\", \"SymbolicProcessing\" -> 0},\n",
    "\t\t\tWorkingPrecision -> 30\n",
    "\t\t]\n",
    "\t]\n",
    "]\n",
    "\n",
    "ProjInfinityExact[r1_, r2_, angle_?NumericQ]:= Block[\n",
    "\t{\\[Theta], \\[Phi]},\n",
    "\tIf[\n",
    "\t\tLast[r1]!=Last[r2],\n",
    "\t\t0.,\n",
    "\t\tFullSimplify[\n",
    "\t\t\tIntegrate[\n",
    "\t\t\t\tSin[\\[Theta]]SphericalHarmonicY[First[r2],Last[r2], \\[Theta], \\[Phi]]SphericalHarmonicY[First[r1],Last[r1], \\[Theta], -\\[Phi]],\n",
    "\t\t\t\t{\\[Theta], 0, angle}, {\\[Phi], 0, 2Pi}\n",
    "\t\t\t]\n",
    "\t\t]\n",
    "\t]\n",
    "]\n",
    "\n",
    "ProjInfinityGKrule[r1_, r2_, angle_?NumericQ]:= Block[\n",
    "\t{\\[Theta], \\[Phi]},\n",
    "\tIf[\n",
    "\t\tLast[r1]!=Last[r2],\n",
    "\t\t0.,\n",
    "\t\tNIntegrate[\n",
    "\t\t\tSin[\\[Theta]]SphericalHarmonicY[First[r2],Last[r2],\\[Theta],\\[Phi]]SphericalHarmonicY[First[r1],Last[r1],\\[Theta],-\\[Phi]],\n",
    "\t\t\t{\\[Theta], 0, angle},{\\[Phi], 0, 2Pi}, \n",
    "\t\t\tMethod -> {\"GaussKronrodRule\", \"SymbolicProcessing\" -> 0},\n",
    "\t\t\tWorkingPrecision -> 30]\n",
    "\t]\n",
    "]\n",
    "\n",
    "ProjInfinityC[r1_, r2_, angle_?NumericQ]:= Block[\n",
    "\t{\\[Theta], \\[Phi]},\n",
    "\tIf[\n",
    "\t\tLast[r1]!=Last[r2],\n",
    "\t\t0.0,\n",
    "\t\tNIntegrate[\n",
    "\t\t\tSin[\\[Theta]]SphericalHarmonicY[First[r2],Last[r2],\\[Theta],\\[Phi]]SphericalHarmonicY[First[r1],Last[r1],\\[Theta],-\\[Phi]],\n",
    "\t\t\t{\\[Theta], 0, angle}, {\\[Phi], 0, 2\\[Pi]}, \n",
    "\t\t\tMethod -> {\"GlobalAdaptive\", Method -> \"GaussKronrodRule\", \"SingularityDepth\" -> Infinity},\n",
    "\t\t\tWorkingPrecision -> 30\n",
    "\t\t]\n",
    "\t]\n",
    "]\n",
    "\n",
    "ProjSorted[jmax_,angle_]:= Block[\n",
    "\t{ind = IndexToRep/@ Range[(jmax+1)^2], indSorted, overlap, M},\n",
    "\toverlap = Function[{r1,r2}, ProjInfinity[r1, r2, angle]];\n",
    "\tindSorted = Sort[ind, #1[[2]]<#2[[2]]&];\n",
    "\tM = Outer[overlap, indSorted, indSorted, 1];\n",
    "\tChop[Re[ApproximateByProjection[M]]]\n",
    "]\n",
    "\n",
    "ProjSortedShort[jmax_,angle_]:= Block[\n",
    "\t{ind=IndexToRep/@Range[(jmax+1.)^2], indSorted, indexofjm0, indSortedUntiljmAre0, overlap, M},\n",
    "\toverlap = Function[{r1,r2}, ProjInfinityGKrule[r1, r2, angle]];\n",
    "\tindSorted = Sort[ind, #1[[2]]<#2[[2]]&];\n",
    "\tindexofjm0 = Total[Range[1,jmax+1]];\n",
    "\tindSortedUntiljmAre0 = indSorted[[1;;indexofjm0]];\n",
    "\tM = Outer[overlap, indSortedUntiljmAre0, indSortedUntiljmAre0, 1];\n",
    "\tChop[Re[ApproximateByProjection[M]]]\n",
    "]\n",
    "\n",
    "ProjSortedShort[jmax_,angle_]:= Block[\n",
    "\t{ind=IndexToRep/@Range[(jmax+1.)^2], indSorted, indexofjm0, indSortedUntiljmAre0, overlap, M},\n",
    "\toverlap = Function[{r1,r2}, ProjInfinityGKrule[r1, r2, angle]];\n",
    "\tindSorted = Sort[ind, #1[[2]]<#2[[2]]&];\n",
    "\tindexofjm0 = Total[Range[1,jmax+1]];\n",
    "\tindSortedUntiljmAre0 = indSorted[[1;;indexofjm0]];\n",
    "\tM = Outer[overlap, indSortedUntiljmAre0, indSortedUntiljmAre0, 1];\n",
    "\tChop[Re[ApproximateByProjection[M]]]\n",
    "]\n",
    "\n",
    "ProjSortedShortParallel[jmax_,angle_]:= Block[\n",
    "\t{ind=IndexToRep/@Range[(jmax+1.)^2], indSorted, indexofjm0, indSortedUntiljmAre0, overlap, M},\n",
    "\toverlap = Function[{r1,r2}, ProjInfinityGKrule[r1, r2, angle]];\n",
    "\tindSorted = Sort[ind, #1[[2]]<#2[[2]]&];\n",
    "\tindexofjm0 = Total[Range[1,jmax+1]];\n",
    "\tindSortedUntiljmAre0 = indSorted[[1;;indexofjm0]];\n",
    "\tM = Parallelize @ Outer[overlap, indSortedUntiljmAre0, indSortedUntiljmAre0, 1];\n",
    "\tChop[Re[ApproximateByProjection[M]]]\n",
    "]\n",
    "\n",
    "runExperiment[index_, n_, a_]:= Block[\n",
    "    {matPath, mat, fileKey},\n",
    "    angles = Table[ArcCos[1 - k / (a - 0.5)], {k, 0, a - 1}];\n",
    "    fileKey = \"/home/ec2-user/SageMaker/spherical-harmonics/data/n_\" <> ToString[n] <> \"_a_\" <>ToString[a] <> \"_i_\" <> ToString[index];\n",
    "    matPathM = fileKey <> \".mat\";\n",
    "    matPathCsv = fileKey <> \".csv\";\n",
    "    mat = ProjSortedShortParallel[n-1, angles[[index]]];\n",
    "    Export[matPathM, mat];\n",
    "    Export[matPathCsv, mat]\n",
    "]"
   ]
  },
  {
   "cell_type": "markdown",
   "metadata": {
    "Collapsed": "false"
   },
   "source": [
    "## Experiment Set up"
   ]
  },
  {
   "cell_type": "code",
   "execution_count": null,
   "metadata": {
    "Collapsed": "false"
   },
   "outputs": [],
   "source": [
    "n = 100;\n",
    "a = 20;\n",
    "AbsoluteTiming@runExperiment[3, n, a]"
   ]
  }
 ],
 "metadata": {
  "kernelspec": {
   "display_name": "Wolfram Language 12",
   "language": "Wolfram Language",
   "name": "wolframlanguage12"
  },
  "language_info": {
   "codemirror_mode": "mathematica",
   "file_extension": ".m",
   "mimetype": "application/vnd.wolfram.m",
   "name": "Wolfram Language",
   "pygments_lexer": "mathematica",
   "version": "12.0"
  }
 },
 "nbformat": 4,
 "nbformat_minor": 4
}
